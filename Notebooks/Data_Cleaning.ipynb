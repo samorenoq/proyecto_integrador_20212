{
 "cells": [
  {
   "cell_type": "code",
   "execution_count": 1,
   "metadata": {},
   "outputs": [],
   "source": [
    "import pandas as pd\n",
    "import numpy as np\n",
    "import os\n",
    "import datetime"
   ]
  },
  {
   "cell_type": "code",
   "execution_count": 2,
   "metadata": {},
   "outputs": [],
   "source": [
    "SAMPLE_SIZE = 5\n",
    "PORTFOLIO_SIZE = 5\n",
    "STOCKS_FILEPATH = 'daily_data/'"
   ]
  },
  {
   "cell_type": "code",
   "execution_count": 3,
   "metadata": {},
   "outputs": [],
   "source": [
    "# Lista de los nombres de cada archivo\n",
    "stocks_list = os.listdir(STOCKS_FILEPATH)\n",
    "stock_names = np.array([stock.split('-')[0] for stock in stocks_list])"
   ]
  },
  {
   "cell_type": "code",
   "execution_count": 4,
   "metadata": {},
   "outputs": [],
   "source": [
    "# Crear dataframe con todas las acciones\n",
    "df = pd.DataFrame()\n",
    "\n",
    "for stock in stocks_list:\n",
    "    stock_name = stock.split('-')[0]\n",
    "    df[stock_name] = pd.read_parquet(os.path.join(STOCKS_FILEPATH, stock))['close']"
   ]
  },
  {
   "cell_type": "code",
   "execution_count": 5,
   "metadata": {},
   "outputs": [],
   "source": [
    "# Función para hallar el número de valores NA para cada acción\n",
    "def na_count(df):\n",
    "    return np.array([len(df[stock_name][df[stock_name].isna()]) for stock_name in stock_names])"
   ]
  },
  {
   "cell_type": "code",
   "execution_count": 50,
   "metadata": {},
   "outputs": [
    {
     "data": {
      "text/plain": [
       "(1697, 1474)"
      ]
     },
     "execution_count": 50,
     "metadata": {},
     "output_type": "execute_result"
    }
   ],
   "source": [
    "# Fecha inicial a partir de la cual se tomarán las acciones\n",
    "# (teniendo en cuenta que muchas no existían en años anteriores)\n",
    "initial_date = datetime.date(2014,1,1)\n",
    "# Filtrar las fechas para incluir fechas posteriores a la fecha inicial\n",
    "df_after_date = df[df.index > initial_date]\n",
    "df_after_date.shape"
   ]
  },
  {
   "cell_type": "code",
   "execution_count": 51,
   "metadata": {},
   "outputs": [
    {
     "data": {
      "text/plain": [
       "array([ 165, 1387,  985, ...,  288,  718,    0], dtype=int64)"
      ]
     },
     "execution_count": 51,
     "metadata": {},
     "output_type": "execute_result"
    }
   ],
   "source": [
    "# Hallar el número de días con NA para cada acción\n",
    "nas = na_count(df_after_date)\n",
    "# Hallar las acciones que más días faltantes tienen\n",
    "nas_indices = np.argsort(nas)[::-1] \n",
    "\n",
    "nas_indices"
   ]
  },
  {
   "cell_type": "code",
   "execution_count": 52,
   "metadata": {},
   "outputs": [
    {
     "name": "stdout",
     "output_type": "stream",
     "text": [
      "Se eliminarán 730 acciones de la lista de acciones elegibles\n"
     ]
    }
   ],
   "source": [
    "# Hallar el número de acciones a las que les faltan más de 252 días de datos\n",
    "stock_indices_to_remove = nas_indices[nas[nas_indices] > 252]\n",
    "print(f'Se eliminarán {len(stock_indices_to_remove)} acciones de la lista de acciones elegibles')"
   ]
  },
  {
   "cell_type": "code",
   "execution_count": 54,
   "metadata": {},
   "outputs": [
    {
     "data": {
      "text/plain": [
       "(1697, 744)"
      ]
     },
     "execution_count": 54,
     "metadata": {},
     "output_type": "execute_result"
    }
   ],
   "source": [
    "# Sacar de la lista las acciones a las que les falten más de 252 días de datos\n",
    "stocks_to_remove = stock_names[stock_indices_to_remove]\n",
    "df_applicable_stocks = df_after_date.drop(stocks_to_remove, axis=1)\n",
    "df_applicable_stocks.shape"
   ]
  },
  {
   "cell_type": "code",
   "execution_count": 59,
   "metadata": {},
   "outputs": [],
   "source": [
    "# Llenar los valores NA de las acciones restantes con el precio anterior / siguiente\n",
    "df_applicable_stocks_no_na = df_applicable_stocks.fillna(method='ffill').fillna(method='bfill')"
   ]
  }
 ],
 "metadata": {
  "kernelspec": {
   "display_name": "Python 3",
   "language": "python",
   "name": "python3"
  },
  "language_info": {
   "codemirror_mode": {
    "name": "ipython",
    "version": 3
   },
   "file_extension": ".py",
   "mimetype": "text/x-python",
   "name": "python",
   "nbconvert_exporter": "python",
   "pygments_lexer": "ipython3",
   "version": "3.8.5"
  }
 },
 "nbformat": 4,
 "nbformat_minor": 4
}

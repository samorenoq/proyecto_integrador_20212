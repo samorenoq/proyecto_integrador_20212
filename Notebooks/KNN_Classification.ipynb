{
 "cells": [
  {
   "cell_type": "code",
   "execution_count": 25,
   "metadata": {},
   "outputs": [],
   "source": [
    "import pandas as pd\n",
    "import numpy as np\n",
    "from sklearn.model_selection import train_test_split\n",
    "from sklearn.neighbors import KNeighborsClassifier\n",
    "import matplotlib.pyplot as plt\n",
    "\n",
    "%matplotlib inline"
   ]
  },
  {
   "cell_type": "markdown",
   "metadata": {},
   "source": [
    "# Constantes"
   ]
  },
  {
   "cell_type": "code",
   "execution_count": 2,
   "metadata": {},
   "outputs": [],
   "source": [
    "# Rutas de S3\n",
    "S3_REFINED_URI = 's3://proyecto-integrador-20212-pregrado/datasets/refined/'"
   ]
  },
  {
   "cell_type": "markdown",
   "metadata": {},
   "source": [
    "# Clusterización supervisada de las acciones con KNN\n",
    "En este caso se usará cada día como una variable y cada acción como un registro porque se quieren clasificar las acciones en diferentes clusters."
   ]
  },
  {
   "cell_type": "code",
   "execution_count": 3,
   "metadata": {},
   "outputs": [
    {
     "data": {
      "text/html": [
       "<div>\n",
       "<style scoped>\n",
       "    .dataframe tbody tr th:only-of-type {\n",
       "        vertical-align: middle;\n",
       "    }\n",
       "\n",
       "    .dataframe tbody tr th {\n",
       "        vertical-align: top;\n",
       "    }\n",
       "\n",
       "    .dataframe thead th {\n",
       "        text-align: right;\n",
       "    }\n",
       "</style>\n",
       "<table border=\"1\" class=\"dataframe\">\n",
       "  <thead>\n",
       "    <tr style=\"text-align: right;\">\n",
       "      <th></th>\n",
       "      <th>2014-01-03</th>\n",
       "      <th>2014-01-04</th>\n",
       "      <th>2014-01-06</th>\n",
       "      <th>2014-01-07</th>\n",
       "      <th>2014-01-08</th>\n",
       "      <th>2014-01-09</th>\n",
       "      <th>2014-01-10</th>\n",
       "      <th>2014-01-11</th>\n",
       "      <th>2014-01-13</th>\n",
       "      <th>2014-01-14</th>\n",
       "      <th>...</th>\n",
       "      <th>2020-11-13</th>\n",
       "      <th>2020-11-16</th>\n",
       "      <th>2020-11-17</th>\n",
       "      <th>2020-11-18</th>\n",
       "      <th>2020-11-19</th>\n",
       "      <th>2020-11-20</th>\n",
       "      <th>2020-11-23</th>\n",
       "      <th>2020-11-24</th>\n",
       "      <th>2020-11-25</th>\n",
       "      <th>label</th>\n",
       "    </tr>\n",
       "  </thead>\n",
       "  <tbody>\n",
       "    <tr>\n",
       "      <th>A</th>\n",
       "      <td>1.850863</td>\n",
       "      <td>-0.524201</td>\n",
       "      <td>-0.342526</td>\n",
       "      <td>1.172116</td>\n",
       "      <td>1.533101</td>\n",
       "      <td>0.360329</td>\n",
       "      <td>0.265003</td>\n",
       "      <td>0.468923</td>\n",
       "      <td>0.101833</td>\n",
       "      <td>1.492031</td>\n",
       "      <td>...</td>\n",
       "      <td>0.726392</td>\n",
       "      <td>-0.027213</td>\n",
       "      <td>-0.308502</td>\n",
       "      <td>-3.467735</td>\n",
       "      <td>2.489157</td>\n",
       "      <td>2.023919</td>\n",
       "      <td>1.190261</td>\n",
       "      <td>2.299055</td>\n",
       "      <td>-0.374564</td>\n",
       "      <td>5</td>\n",
       "    </tr>\n",
       "    <tr>\n",
       "      <th>AA</th>\n",
       "      <td>0.285036</td>\n",
       "      <td>0.142113</td>\n",
       "      <td>0.000000</td>\n",
       "      <td>-0.047304</td>\n",
       "      <td>2.082347</td>\n",
       "      <td>-1.437181</td>\n",
       "      <td>-4.797742</td>\n",
       "      <td>-0.098814</td>\n",
       "      <td>0.000000</td>\n",
       "      <td>1.434224</td>\n",
       "      <td>...</td>\n",
       "      <td>6.080000</td>\n",
       "      <td>6.485671</td>\n",
       "      <td>3.541076</td>\n",
       "      <td>0.355677</td>\n",
       "      <td>3.217012</td>\n",
       "      <td>-0.475436</td>\n",
       "      <td>5.175159</td>\n",
       "      <td>5.122382</td>\n",
       "      <td>-2.448392</td>\n",
       "      <td>3</td>\n",
       "    </tr>\n",
       "    <tr>\n",
       "      <th>AAN</th>\n",
       "      <td>0.748045</td>\n",
       "      <td>-0.269997</td>\n",
       "      <td>-0.135364</td>\n",
       "      <td>-1.660454</td>\n",
       "      <td>1.550655</td>\n",
       "      <td>-1.594842</td>\n",
       "      <td>-0.103448</td>\n",
       "      <td>0.000000</td>\n",
       "      <td>-6.800138</td>\n",
       "      <td>-1.370370</td>\n",
       "      <td>...</td>\n",
       "      <td>2.632479</td>\n",
       "      <td>1.798801</td>\n",
       "      <td>-0.343586</td>\n",
       "      <td>0.738795</td>\n",
       "      <td>2.183833</td>\n",
       "      <td>0.526316</td>\n",
       "      <td>2.808187</td>\n",
       "      <td>2.407407</td>\n",
       "      <td>-2.998794</td>\n",
       "      <td>0</td>\n",
       "    </tr>\n",
       "    <tr>\n",
       "      <th>AAP</th>\n",
       "      <td>3.485500</td>\n",
       "      <td>-0.212164</td>\n",
       "      <td>-0.921332</td>\n",
       "      <td>0.947783</td>\n",
       "      <td>-0.017715</td>\n",
       "      <td>0.717576</td>\n",
       "      <td>1.534876</td>\n",
       "      <td>0.177589</td>\n",
       "      <td>-1.100398</td>\n",
       "      <td>2.607821</td>\n",
       "      <td>...</td>\n",
       "      <td>0.656691</td>\n",
       "      <td>-1.976695</td>\n",
       "      <td>-1.105960</td>\n",
       "      <td>-0.810286</td>\n",
       "      <td>-1.302998</td>\n",
       "      <td>-1.224434</td>\n",
       "      <td>0.831025</td>\n",
       "      <td>2.918956</td>\n",
       "      <td>-0.013347</td>\n",
       "      <td>5</td>\n",
       "    </tr>\n",
       "    <tr>\n",
       "      <th>AAPL</th>\n",
       "      <td>-1.429295</td>\n",
       "      <td>-0.704820</td>\n",
       "      <td>0.862324</td>\n",
       "      <td>-0.970411</td>\n",
       "      <td>0.584806</td>\n",
       "      <td>-1.236408</td>\n",
       "      <td>-0.771251</td>\n",
       "      <td>0.054445</td>\n",
       "      <td>0.632341</td>\n",
       "      <td>1.515914</td>\n",
       "      <td>...</td>\n",
       "      <td>0.000000</td>\n",
       "      <td>0.951942</td>\n",
       "      <td>-0.810036</td>\n",
       "      <td>-1.164252</td>\n",
       "      <td>0.542373</td>\n",
       "      <td>0.000000</td>\n",
       "      <td>0.000000</td>\n",
       "      <td>-2.916386</td>\n",
       "      <td>1.007119</td>\n",
       "      <td>5</td>\n",
       "    </tr>\n",
       "  </tbody>\n",
       "</table>\n",
       "<p>5 rows × 1697 columns</p>\n",
       "</div>"
      ],
      "text/plain": [
       "      2014-01-03  2014-01-04  2014-01-06  2014-01-07  2014-01-08  2014-01-09  \\\n",
       "A       1.850863   -0.524201   -0.342526    1.172116    1.533101    0.360329   \n",
       "AA      0.285036    0.142113    0.000000   -0.047304    2.082347   -1.437181   \n",
       "AAN     0.748045   -0.269997   -0.135364   -1.660454    1.550655   -1.594842   \n",
       "AAP     3.485500   -0.212164   -0.921332    0.947783   -0.017715    0.717576   \n",
       "AAPL   -1.429295   -0.704820    0.862324   -0.970411    0.584806   -1.236408   \n",
       "\n",
       "      2014-01-10  2014-01-11  2014-01-13  2014-01-14  ...  2020-11-13  \\\n",
       "A       0.265003    0.468923    0.101833    1.492031  ...    0.726392   \n",
       "AA     -4.797742   -0.098814    0.000000    1.434224  ...    6.080000   \n",
       "AAN    -0.103448    0.000000   -6.800138   -1.370370  ...    2.632479   \n",
       "AAP     1.534876    0.177589   -1.100398    2.607821  ...    0.656691   \n",
       "AAPL   -0.771251    0.054445    0.632341    1.515914  ...    0.000000   \n",
       "\n",
       "      2020-11-16  2020-11-17  2020-11-18  2020-11-19  2020-11-20  2020-11-23  \\\n",
       "A      -0.027213   -0.308502   -3.467735    2.489157    2.023919    1.190261   \n",
       "AA      6.485671    3.541076    0.355677    3.217012   -0.475436    5.175159   \n",
       "AAN     1.798801   -0.343586    0.738795    2.183833    0.526316    2.808187   \n",
       "AAP    -1.976695   -1.105960   -0.810286   -1.302998   -1.224434    0.831025   \n",
       "AAPL    0.951942   -0.810036   -1.164252    0.542373    0.000000    0.000000   \n",
       "\n",
       "      2020-11-24  2020-11-25  label  \n",
       "A       2.299055   -0.374564      5  \n",
       "AA      5.122382   -2.448392      3  \n",
       "AAN     2.407407   -2.998794      0  \n",
       "AAP     2.918956   -0.013347      5  \n",
       "AAPL   -2.916386    1.007119      5  \n",
       "\n",
       "[5 rows x 1697 columns]"
      ]
     },
     "execution_count": 3,
     "metadata": {},
     "output_type": "execute_result"
    }
   ],
   "source": [
    "# Cargar la matriz de retornos etiquetada de S3\n",
    "df_returns_with_tags = pd.read_parquet(f'{S3_REFINED_URI}matriz_retornos_etiquetada.parquet')\n",
    "df_returns_with_tags.head()"
   ]
  },
  {
   "cell_type": "code",
   "execution_count": 5,
   "metadata": {},
   "outputs": [],
   "source": [
    "# Definir X y Y\n",
    "X = df_returns_with_tags.drop('label', axis = 1)\n",
    "y = df_returns_with_tags['label']"
   ]
  },
  {
   "cell_type": "markdown",
   "metadata": {},
   "source": [
    "Separar los datos en datos de entrenamiento y de validación, con una separación de 80% para entrenamiento y 20% para validación"
   ]
  },
  {
   "cell_type": "code",
   "execution_count": 16,
   "metadata": {},
   "outputs": [],
   "source": [
    "X_train, X_test, y_train, y_test = train_test_split(X, y, train_size=0.8)"
   ]
  },
  {
   "cell_type": "code",
   "execution_count": 20,
   "metadata": {},
   "outputs": [],
   "source": [
    "# Función calcular la precisión en entrenamiento y validación para un modelo dado\n",
    "def calculate_accuracy(model, X_train, X_test, y_train, y_test):\n",
    "    return model.score(X_train, y_train), model.score(X_test, y_test)"
   ]
  },
  {
   "cell_type": "code",
   "execution_count": 45,
   "metadata": {},
   "outputs": [],
   "source": [
    "# Hallar la precisión del modelo KNN para varios valores de k\n",
    "num_ks = 30\n",
    "ks = np.arange(1, num_ks+1)\n",
    "train_accuracies = np.zeros(num_ks)\n",
    "test_accuracies = np.zeros(num_ks)\n",
    "\n",
    "for i, k in enumerate(ks):\n",
    "    knn = KNeighborsClassifier(n_neighbors=k).fit(X_train, y_train)\n",
    "    train_accuracies[i], test_accuracies[i] = calculate_accuracy(knn, X_train, X_test, y_train, y_test)"
   ]
  },
  {
   "cell_type": "code",
   "execution_count": 46,
   "metadata": {},
   "outputs": [
    {
     "data": {
      "image/png": "[encoded data removed]",
      "text/plain": [
       "<Figure size 864x504 with 1 Axes>"
      ]
     },
     "metadata": {
      "needs_background": "light"
     },
     "output_type": "display_data"
    }
   ],
   "source": [
    "fig, ax = plt.subplots(figsize=(12,7))\n",
    "ax.set_title('Precisión de clasificador KNN para cada $k$')\n",
    "ax.set_xlabel('k')\n",
    "ax.set_xticks(np.linspace(1,num_ks, num_ks))\n",
    "ax.set_ylabel('Precisión (%)')\n",
    "ax.set_ylim(0,100)\n",
    "ax.plot(ks, train_accuracies*100, label='Entrenamiento')\n",
    "ax.plot(ks, test_accuracies*100, label='Validación')\n",
    "ax.legend();"
   ]
  },
  {
   "cell_type": "code",
   "execution_count": null,
   "metadata": {},
   "outputs": [],
   "source": []
  }
 ],
 "metadata": {
  "kernelspec": {
   "display_name": "Python 3",
   "language": "python",
   "name": "python3"
  },
  "language_info": {
   "codemirror_mode": {
    "name": "ipython",
    "version": 3
   },
   "file_extension": ".py",
   "mimetype": "text/x-python",
   "name": "python",
   "nbconvert_exporter": "python",
   "pygments_lexer": "ipython3",
   "version": "3.8.5"
  }
 },
 "nbformat": 4,
 "nbformat_minor": 4
}

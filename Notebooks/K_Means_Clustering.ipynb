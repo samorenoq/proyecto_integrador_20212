{
 "cells": [
  {
   "cell_type": "code",
   "execution_count": 1,
   "metadata": {},
   "outputs": [],
   "source": [
    "import pandas as pd\n",
    "import numpy as np\n",
    "from sklearn.cluster import KMeans\n",
    "from sklearn.decomposition import PCA\n",
    "import matplotlib.pyplot as plt\n",
    "import datetime\n",
    "\n",
    "%matplotlib inline"
   ]
  },
  {
   "cell_type": "markdown",
   "metadata": {},
   "source": [
    "# Constantes"
   ]
  },
  {
   "cell_type": "code",
   "execution_count": 2,
   "metadata": {},
   "outputs": [],
   "source": [
    "# Rutas de S3\n",
    "S3_REFINED_URI = 's3://proyecto-integrador-20212-pregrado/datasets/refined/'"
   ]
  },
  {
   "cell_type": "markdown",
   "metadata": {},
   "source": [
    "# Clusterización de las acciones con K-means\n",
    " En este caso se usará cada día como una variable y cada acción como un registro porque se quieren clasificar las acciones en diferentes clusters."
   ]
  },
  {
   "cell_type": "code",
   "execution_count": 3,
   "metadata": {},
   "outputs": [
    {
     "data": {
      "text/html": [
       "<div>\n",
       "<style scoped>\n",
       "    .dataframe tbody tr th:only-of-type {\n",
       "        vertical-align: middle;\n",
       "    }\n",
       "\n",
       "    .dataframe tbody tr th {\n",
       "        vertical-align: top;\n",
       "    }\n",
       "\n",
       "    .dataframe thead th {\n",
       "        text-align: right;\n",
       "    }\n",
       "</style>\n",
       "<table border=\"1\" class=\"dataframe\">\n",
       "  <thead>\n",
       "    <tr style=\"text-align: right;\">\n",
       "      <th></th>\n",
       "      <th>A</th>\n",
       "      <th>AA</th>\n",
       "      <th>AAN</th>\n",
       "      <th>AAP</th>\n",
       "      <th>AAPL</th>\n",
       "      <th>ABBV</th>\n",
       "      <th>ABT</th>\n",
       "      <th>ACN</th>\n",
       "      <th>ADBE</th>\n",
       "      <th>ADM</th>\n",
       "      <th>...</th>\n",
       "      <th>WYND</th>\n",
       "      <th>WYNN</th>\n",
       "      <th>XEL</th>\n",
       "      <th>XOM</th>\n",
       "      <th>XRAY</th>\n",
       "      <th>XYL</th>\n",
       "      <th>YNDX</th>\n",
       "      <th>YUM</th>\n",
       "      <th>ZION</th>\n",
       "      <th>ZTS</th>\n",
       "    </tr>\n",
       "    <tr>\n",
       "      <th>date</th>\n",
       "      <th></th>\n",
       "      <th></th>\n",
       "      <th></th>\n",
       "      <th></th>\n",
       "      <th></th>\n",
       "      <th></th>\n",
       "      <th></th>\n",
       "      <th></th>\n",
       "      <th></th>\n",
       "      <th></th>\n",
       "      <th></th>\n",
       "      <th></th>\n",
       "      <th></th>\n",
       "      <th></th>\n",
       "      <th></th>\n",
       "      <th></th>\n",
       "      <th></th>\n",
       "      <th></th>\n",
       "      <th></th>\n",
       "      <th></th>\n",
       "      <th></th>\n",
       "    </tr>\n",
       "  </thead>\n",
       "  <tbody>\n",
       "    <tr>\n",
       "      <th>2014-01-03</th>\n",
       "      <td>1.850863</td>\n",
       "      <td>0.285036</td>\n",
       "      <td>0.748045</td>\n",
       "      <td>3.485500</td>\n",
       "      <td>-1.429295</td>\n",
       "      <td>1.256524</td>\n",
       "      <td>1.323722</td>\n",
       "      <td>0.264806</td>\n",
       "      <td>0.016866</td>\n",
       "      <td>0.861868</td>\n",
       "      <td>...</td>\n",
       "      <td>-1.151932</td>\n",
       "      <td>-1.204273</td>\n",
       "      <td>0.000000</td>\n",
       "      <td>0.150633</td>\n",
       "      <td>0.730536</td>\n",
       "      <td>0.0</td>\n",
       "      <td>0.775194</td>\n",
       "      <td>0.558734</td>\n",
       "      <td>0.691866</td>\n",
       "      <td>-0.619387</td>\n",
       "    </tr>\n",
       "    <tr>\n",
       "      <th>2014-01-04</th>\n",
       "      <td>-0.524201</td>\n",
       "      <td>0.142113</td>\n",
       "      <td>-0.269997</td>\n",
       "      <td>-0.212164</td>\n",
       "      <td>-0.704820</td>\n",
       "      <td>-0.152730</td>\n",
       "      <td>-0.038805</td>\n",
       "      <td>-0.134936</td>\n",
       "      <td>-0.236088</td>\n",
       "      <td>-0.254042</td>\n",
       "      <td>...</td>\n",
       "      <td>-0.027582</td>\n",
       "      <td>-0.035702</td>\n",
       "      <td>-0.181488</td>\n",
       "      <td>-0.220596</td>\n",
       "      <td>-0.145048</td>\n",
       "      <td>0.0</td>\n",
       "      <td>0.000000</td>\n",
       "      <td>-0.039688</td>\n",
       "      <td>0.083794</td>\n",
       "      <td>-0.124649</td>\n",
       "    </tr>\n",
       "    <tr>\n",
       "      <th>2014-01-06</th>\n",
       "      <td>-0.342526</td>\n",
       "      <td>0.000000</td>\n",
       "      <td>-0.135364</td>\n",
       "      <td>-0.921332</td>\n",
       "      <td>0.862324</td>\n",
       "      <td>-3.269598</td>\n",
       "      <td>1.423395</td>\n",
       "      <td>-0.687876</td>\n",
       "      <td>-1.183232</td>\n",
       "      <td>0.347303</td>\n",
       "      <td>...</td>\n",
       "      <td>0.041385</td>\n",
       "      <td>0.219388</td>\n",
       "      <td>-0.581818</td>\n",
       "      <td>0.221083</td>\n",
       "      <td>-0.674414</td>\n",
       "      <td>0.0</td>\n",
       "      <td>0.093240</td>\n",
       "      <td>0.463208</td>\n",
       "      <td>-0.569324</td>\n",
       "      <td>0.031201</td>\n",
       "    </tr>\n",
       "    <tr>\n",
       "      <th>2014-01-07</th>\n",
       "      <td>1.172116</td>\n",
       "      <td>-0.047304</td>\n",
       "      <td>-1.660454</td>\n",
       "      <td>0.947783</td>\n",
       "      <td>-0.970411</td>\n",
       "      <td>-0.553469</td>\n",
       "      <td>-0.612401</td>\n",
       "      <td>0.841064</td>\n",
       "      <td>0.598700</td>\n",
       "      <td>-0.946008</td>\n",
       "      <td>...</td>\n",
       "      <td>-0.799779</td>\n",
       "      <td>2.433437</td>\n",
       "      <td>1.627652</td>\n",
       "      <td>1.263411</td>\n",
       "      <td>1.472684</td>\n",
       "      <td>0.0</td>\n",
       "      <td>1.141127</td>\n",
       "      <td>1.027533</td>\n",
       "      <td>-0.235770</td>\n",
       "      <td>0.218341</td>\n",
       "    </tr>\n",
       "    <tr>\n",
       "      <th>2014-01-08</th>\n",
       "      <td>1.533101</td>\n",
       "      <td>2.082347</td>\n",
       "      <td>1.550655</td>\n",
       "      <td>-0.017715</td>\n",
       "      <td>0.584806</td>\n",
       "      <td>0.298151</td>\n",
       "      <td>0.333761</td>\n",
       "      <td>0.711395</td>\n",
       "      <td>-0.119027</td>\n",
       "      <td>-1.374330</td>\n",
       "      <td>...</td>\n",
       "      <td>0.778426</td>\n",
       "      <td>1.570498</td>\n",
       "      <td>-0.125967</td>\n",
       "      <td>-0.445589</td>\n",
       "      <td>0.144328</td>\n",
       "      <td>0.0</td>\n",
       "      <td>-0.990099</td>\n",
       "      <td>0.078237</td>\n",
       "      <td>1.080351</td>\n",
       "      <td>-1.027077</td>\n",
       "    </tr>\n",
       "  </tbody>\n",
       "</table>\n",
       "<p>5 rows × 399 columns</p>\n",
       "</div>"
      ],
      "text/plain": [
       "                   A        AA       AAN       AAP      AAPL      ABBV  \\\n",
       "date                                                                     \n",
       "2014-01-03  1.850863  0.285036  0.748045  3.485500 -1.429295  1.256524   \n",
       "2014-01-04 -0.524201  0.142113 -0.269997 -0.212164 -0.704820 -0.152730   \n",
       "2014-01-06 -0.342526  0.000000 -0.135364 -0.921332  0.862324 -3.269598   \n",
       "2014-01-07  1.172116 -0.047304 -1.660454  0.947783 -0.970411 -0.553469   \n",
       "2014-01-08  1.533101  2.082347  1.550655 -0.017715  0.584806  0.298151   \n",
       "\n",
       "                 ABT       ACN      ADBE       ADM  ...      WYND      WYNN  \\\n",
       "date                                                ...                       \n",
       "2014-01-03  1.323722  0.264806  0.016866  0.861868  ... -1.151932 -1.204273   \n",
       "2014-01-04 -0.038805 -0.134936 -0.236088 -0.254042  ... -0.027582 -0.035702   \n",
       "2014-01-06  1.423395 -0.687876 -1.183232  0.347303  ...  0.041385  0.219388   \n",
       "2014-01-07 -0.612401  0.841064  0.598700 -0.946008  ... -0.799779  2.433437   \n",
       "2014-01-08  0.333761  0.711395 -0.119027 -1.374330  ...  0.778426  1.570498   \n",
       "\n",
       "                 XEL       XOM      XRAY  XYL      YNDX       YUM      ZION  \\\n",
       "date                                                                          \n",
       "2014-01-03  0.000000  0.150633  0.730536  0.0  0.775194  0.558734  0.691866   \n",
       "2014-01-04 -0.181488 -0.220596 -0.145048  0.0  0.000000 -0.039688  0.083794   \n",
       "2014-01-06 -0.581818  0.221083 -0.674414  0.0  0.093240  0.463208 -0.569324   \n",
       "2014-01-07  1.627652  1.263411  1.472684  0.0  1.141127  1.027533 -0.235770   \n",
       "2014-01-08 -0.125967 -0.445589  0.144328  0.0 -0.990099  0.078237  1.080351   \n",
       "\n",
       "                 ZTS  \n",
       "date                  \n",
       "2014-01-03 -0.619387  \n",
       "2014-01-04 -0.124649  \n",
       "2014-01-06  0.031201  \n",
       "2014-01-07  0.218341  \n",
       "2014-01-08 -1.027077  \n",
       "\n",
       "[5 rows x 399 columns]"
      ]
     },
     "execution_count": 3,
     "metadata": {},
     "output_type": "execute_result"
    }
   ],
   "source": [
    "# Cargar los retornos\n",
    "df_returns = pd.read_parquet(f'{S3_REFINED_URI}matriz_retornos.parquet')\n",
    "df_returns.head()"
   ]
  },
  {
   "cell_type": "code",
   "execution_count": 4,
   "metadata": {},
   "outputs": [],
   "source": [
    "# Como cada acción es una observación, se debe usar la transpuesta\n",
    "data = df_returns.T"
   ]
  },
  {
   "cell_type": "code",
   "execution_count": 5,
   "metadata": {},
   "outputs": [],
   "source": [
    "# Definición de k\n",
    "k = 11\n",
    "# Clustering con K-Means\n",
    "labels = KMeans(n_clusters=k, random_state=0).fit_predict(data)\n",
    "# Agregar las etiquetas como columna a los datos\n",
    "data['label'] = labels"
   ]
  },
  {
   "cell_type": "code",
   "execution_count": 6,
   "metadata": {},
   "outputs": [],
   "source": [
    "# Graficar los resultados usando como coordenadas los dos componentes principales\n",
    "pca = PCA(2)\n",
    "pca_data = pca.fit_transform(data)"
   ]
  },
  {
   "cell_type": "code",
   "execution_count": 7,
   "metadata": {},
   "outputs": [
    {
     "data": {
      "image/png": "[encoded data removed]",
      "text/plain": [
       "<Figure size 432x288 with 1 Axes>"
      ]
     },
     "metadata": {
      "needs_background": "light"
     },
     "output_type": "display_data"
    }
   ],
   "source": [
    "for lab in np.unique(labels):\n",
    "    plt.scatter(pca_data[labels == lab, 0],pca_data[labels == lab, 1], label=lab)\n",
    "    \n",
    "plt.legend()\n",
    "plt.show();"
   ]
  },
  {
   "cell_type": "code",
   "execution_count": 8,
   "metadata": {},
   "outputs": [
    {
     "name": "stdout",
     "output_type": "stream",
     "text": [
      "Las siguientes acciones son outliers y se eliminarán de la gráfica:\n",
      " ['YNDX']\n"
     ]
    }
   ],
   "source": [
    "outlier = list(data[labels == 1].index)\n",
    "print(f'Las siguientes acciones son outliers y se eliminarán de la gráfica:\\n {outlier}')"
   ]
  },
  {
   "cell_type": "code",
   "execution_count": 9,
   "metadata": {},
   "outputs": [
    {
     "data": {
      "image/png": "[encoded data removed]",
      "text/plain": [
       "<Figure size 432x288 with 1 Axes>"
      ]
     },
     "metadata": {
      "needs_background": "light"
     },
     "output_type": "display_data"
    }
   ],
   "source": [
    "for lab in np.unique(labels):\n",
    "    if lab == 1:\n",
    "        continue\n",
    "    plt.scatter(pca_data[labels == lab, 0],pca_data[labels == lab, 1], label=lab)\n",
    "    \n",
    "plt.legend()\n",
    "plt.show();"
   ]
  },
  {
   "cell_type": "markdown",
   "metadata": {},
   "source": [
    "A pesar de que en algunos casos hay clusters claros, en otros no hay una división tan clara de las acciones y los clusters a los que pertenecen. Esto también puede pasar porque la clusterización fue hecha en una dimensión mucho más alta que la que se puede graficar."
   ]
  },
  {
   "cell_type": "code",
   "execution_count": 10,
   "metadata": {},
   "outputs": [],
   "source": [
    "# Convertir las columnas en texto\n",
    "string_dates = list(map(lambda x: x.strftime('%Y-%m-%d'), df_returns.index)) + ['label']\n",
    "data.columns = string_dates\n",
    "\n",
    "# Guardar la matriz de retornos con etiquetas en S3\n",
    "data.to_parquet(f'{S3_REFINED_URI}matriz_retornos_etiquetada.parquet')"
   ]
  }
 ],
 "metadata": {
  "kernelspec": {
   "display_name": "Python 3",
   "language": "python",
   "name": "python3"
  },
  "language_info": {
   "codemirror_mode": {
    "name": "ipython",
    "version": 3
   },
   "file_extension": ".py",
   "mimetype": "text/x-python",
   "name": "python",
   "nbconvert_exporter": "python",
   "pygments_lexer": "ipython3",
   "version": "3.8.5"
  }
 },
 "nbformat": 4,
 "nbformat_minor": 4
}

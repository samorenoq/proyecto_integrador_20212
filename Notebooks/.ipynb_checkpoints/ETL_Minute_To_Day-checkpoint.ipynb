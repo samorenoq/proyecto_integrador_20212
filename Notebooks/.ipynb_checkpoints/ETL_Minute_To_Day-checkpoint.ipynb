{
 "cells": [
  {
   "cell_type": "code",
   "execution_count": 1,
   "metadata": {},
   "outputs": [],
   "source": [
    "import pandas as pd\n",
    "import numpy as np\n",
    "import os\n",
    "import boto3"
   ]
  },
  {
   "cell_type": "markdown",
   "metadata": {},
   "source": [
    "# Constantes"
   ]
  },
  {
   "cell_type": "code",
   "execution_count": 10,
   "metadata": {},
   "outputs": [],
   "source": [
    "STOCKS_FILEPATH = '../../2020-11-25/'\n",
    "SAMPLE_SIZE = 5\n",
    "PORTFOLIO_SIZE = 5\n",
    "S3_RAW_PATH = 's3://proyecto-integrador-20212-pregrado/datasets/raw/'\n",
    "S3_TRUSTED_PATH = 's3://proyecto-integrador-20212-pregrado/datasets/trusted/'"
   ]
  },
  {
   "cell_type": "code",
   "execution_count": 11,
   "metadata": {},
   "outputs": [],
   "source": [
    "stocks_list = os.listdir(STOCKS_FILEPATH)"
   ]
  },
  {
   "cell_type": "markdown",
   "metadata": {},
   "source": [
    "# Funciones"
   ]
  },
  {
   "cell_type": "code",
   "execution_count": 14,
   "metadata": {},
   "outputs": [
    {
     "name": "stdout",
     "output_type": "stream",
     "text": [
      "Wall time: 5min 18s\n"
     ]
    }
   ],
   "source": [
    "# Función para obtener las rutas de todos los archivos de un directorio en S3\n",
    "def get_s3_paths(stocks_list):\n",
    "    # Lista de rutas fuente en S3\n",
    "    sources = [S3_RAW_PATH+stock for stock in stocks_list]\n",
    "    # Lista de rutas de destino en S3\n",
    "    destinations = [S3_TRUSTED_PATH+stock for stock in stocks_list]\n",
    "    #Lista de tuplas (fuente, destino)\n",
    "    return [(source, destination) for source, destination in zip(sources, destinations)]\n",
    "\n",
    "# Función para pasar los datos de minutos a datos diarios, de raw a trusted\n",
    "def minutes_to_days(path_tuple):\n",
    "    source, destination = path_tuple\n",
    "    # Leer datos de AWS\n",
    "    df = pd.read_parquet(source)\n",
    "    # Crear una columna con las fechas (sin hora)\n",
    "    df['date'] = df.index.date\n",
    "    # Tomar la última instancia de cada fecha (el precio de cierre del día)\n",
    "    df_daily = df.groupby('date').last()\n",
    "    # Escribir el archivo modificado en la zona Trusted\n",
    "    df_daily.to_parquet(destination)"
   ]
  },
  {
   "cell_type": "code",
   "execution_count": null,
   "metadata": {},
   "outputs": [],
   "source": [
    "for path_tuple in get_s3_paths(stocks_list):\n",
    "    minutes_to_days(path_tuple)"
   ]
  }
 ],
 "metadata": {
  "kernelspec": {
   "display_name": "Python 3",
   "language": "python",
   "name": "python3"
  },
  "language_info": {
   "codemirror_mode": {
    "name": "ipython",
    "version": 3
   },
   "file_extension": ".py",
   "mimetype": "text/x-python",
   "name": "python",
   "nbconvert_exporter": "python",
   "pygments_lexer": "ipython3",
   "version": "3.8.5"
  }
 },
 "nbformat": 4,
 "nbformat_minor": 4
}
